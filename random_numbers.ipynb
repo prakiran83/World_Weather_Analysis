{
 "cells": [
  {
   "cell_type": "code",
   "execution_count": 1,
   "id": "83c67149",
   "metadata": {},
   "outputs": [],
   "source": [
    "# Import the random module.\n",
    "import random"
   ]
  },
  {
   "cell_type": "code",
   "execution_count": 2,
   "id": "2a196f3c",
   "metadata": {},
   "outputs": [
    {
     "data": {
      "text/plain": [
       "-69"
      ]
     },
     "execution_count": 2,
     "metadata": {},
     "output_type": "execute_result"
    }
   ],
   "source": [
    "random.randint(-90, 90)"
   ]
  },
  {
   "cell_type": "code",
   "execution_count": 3,
   "id": "91f0871c",
   "metadata": {},
   "outputs": [
    {
     "data": {
      "text/plain": [
       "0.4643252053756174"
      ]
     },
     "execution_count": 3,
     "metadata": {},
     "output_type": "execute_result"
    }
   ],
   "source": [
    "random.random()"
   ]
  },
  {
   "cell_type": "code",
   "execution_count": 4,
   "id": "de294b26",
   "metadata": {},
   "outputs": [
    {
     "data": {
      "text/plain": [
       "89.3494249653452"
      ]
     },
     "execution_count": 4,
     "metadata": {},
     "output_type": "execute_result"
    }
   ],
   "source": [
    "random_number = random.randint(-90, 89) + random.random()\n",
    "random_number"
   ]
  },
  {
   "cell_type": "code",
   "execution_count": 5,
   "id": "594ffe15",
   "metadata": {},
   "outputs": [
    {
     "data": {
      "text/plain": [
       "[-45.16953786918522,\n",
       " 61.117032301660274,\n",
       " -84.72407428017422,\n",
       " -16.19425327690838,\n",
       " 24.171263851443015,\n",
       " -47.066858858218524,\n",
       " 77.38424481227716,\n",
       " 16.62020128171638,\n",
       " -3.219691162714094,\n",
       " -64.53500638990121]"
      ]
     },
     "execution_count": 5,
     "metadata": {},
     "output_type": "execute_result"
    }
   ],
   "source": [
    "x = 1\n",
    "latitudes = []\n",
    "while x < 11:\n",
    "    random_lat = random.randint(-90, 89) + random.random()\n",
    "    latitudes.append(random_lat)\n",
    "    x += 1\n",
    "latitudes"
   ]
  },
  {
   "cell_type": "code",
   "execution_count": 6,
   "id": "4d4dbc79",
   "metadata": {},
   "outputs": [
    {
     "data": {
      "text/plain": [
       "-13"
      ]
     },
     "execution_count": 6,
     "metadata": {},
     "output_type": "execute_result"
    }
   ],
   "source": [
    "random.randrange(-90, 90, step=1)"
   ]
  },
  {
   "cell_type": "code",
   "execution_count": 10,
   "id": "731e6954",
   "metadata": {},
   "outputs": [
    {
     "data": {
      "text/plain": [
       "-21"
      ]
     },
     "execution_count": 10,
     "metadata": {},
     "output_type": "execute_result"
    }
   ],
   "source": [
    "random.randrange(-90, 90, step=3)"
   ]
  },
  {
   "cell_type": "code",
   "execution_count": 12,
   "id": "a6fdbffd",
   "metadata": {},
   "outputs": [
    {
     "data": {
      "text/plain": [
       "-9.481655831289748"
      ]
     },
     "execution_count": 12,
     "metadata": {},
     "output_type": "execute_result"
    }
   ],
   "source": [
    "random.uniform(-10,10)"
   ]
  },
  {
   "cell_type": "code",
   "execution_count": 13,
   "id": "2d4c5bac",
   "metadata": {},
   "outputs": [],
   "source": [
    "# Import the NumPy module.\n",
    "import numpy as np"
   ]
  },
  {
   "cell_type": "code",
   "execution_count": 14,
   "id": "44a47ee4",
   "metadata": {},
   "outputs": [
    {
     "data": {
      "text/plain": [
       "-72.26257862473592"
      ]
     },
     "execution_count": 14,
     "metadata": {},
     "output_type": "execute_result"
    }
   ],
   "source": [
    "np.random.uniform(-90.000, 90.000)"
   ]
  },
  {
   "cell_type": "code",
   "execution_count": 15,
   "id": "e1f5672b",
   "metadata": {},
   "outputs": [
    {
     "data": {
      "text/plain": [
       "array([-8.40276751e+01, -4.10628104e+01,  6.59556617e+01, -8.95796334e+01,\n",
       "       -6.64078610e+00,  6.40095364e+01, -3.12676682e+01, -7.63978168e+01,\n",
       "       -8.03486975e+01,  8.53678265e+01, -7.58481581e+01,  2.63582409e+01,\n",
       "       -4.07088044e+01, -3.03186960e+01, -8.63443879e+01,  2.62268205e+01,\n",
       "       -4.77218023e+01,  3.01371266e+01,  6.23163556e+01,  5.69468055e+01,\n",
       "       -3.96969781e+01,  4.22182331e-02,  4.92608892e+01, -5.76437507e+01,\n",
       "       -4.41635033e+01, -7.12733957e+01,  8.73323689e+01,  4.44641526e+01,\n",
       "       -3.17085986e+01,  8.76466974e+01, -4.04430130e+01,  1.87487725e+01,\n",
       "       -5.21168473e+01, -5.05579943e+01, -4.28380556e+01,  5.39823985e+00,\n",
       "        3.62502023e+00, -2.53619036e+01,  7.31710069e+01, -1.60963941e+01,\n",
       "        4.38373173e+01, -3.97426443e+01, -6.99650971e+01, -7.68006887e+01,\n",
       "       -8.44039415e+01,  5.73100395e+01, -2.23854381e+00,  6.78714521e+01,\n",
       "       -5.07758242e+01, -5.53626193e+01])"
      ]
     },
     "execution_count": 15,
     "metadata": {},
     "output_type": "execute_result"
    }
   ],
   "source": [
    "np.random.uniform(-90.000, 90.000, size=50)"
   ]
  },
  {
   "cell_type": "code",
   "execution_count": 16,
   "id": "3ba08594",
   "metadata": {},
   "outputs": [],
   "source": [
    "# Import timeit.\n",
    "import timeit"
   ]
  },
  {
   "cell_type": "code",
   "execution_count": 17,
   "id": "5f486eff",
   "metadata": {},
   "outputs": [
    {
     "name": "stdout",
     "output_type": "stream",
     "text": [
      "24.2 µs ± 3.59 µs per loop (mean ± std. dev. of 7 runs, 10000 loops each)\n"
     ]
    }
   ],
   "source": [
    "%timeit np.random.uniform(-90.000, 90.000, size=1500)"
   ]
  },
  {
   "cell_type": "code",
   "execution_count": 18,
   "id": "8d830f96",
   "metadata": {},
   "outputs": [
    {
     "name": "stdout",
     "output_type": "stream",
     "text": [
      "2.88 ms ± 265 µs per loop (mean ± std. dev. of 7 runs, 100 loops each)\n"
     ]
    }
   ],
   "source": [
    "def latitudes(size):\n",
    "    latitudes = []\n",
    "    x = 0\n",
    "    while x < (size):\n",
    "        random_lat = random.randint(-90, 90) + random.random()\n",
    "        latitudes.append(random_lat)\n",
    "        x += 1\n",
    "    return latitudes\n",
    "# Call the function with 1500.\n",
    "%timeit latitudes(1500)"
   ]
  },
  {
   "cell_type": "code",
   "execution_count": null,
   "id": "2e7c3ccb",
   "metadata": {},
   "outputs": [],
   "source": []
  }
 ],
 "metadata": {
  "kernelspec": {
   "display_name": "PythonData",
   "language": "python",
   "name": "pythondata"
  },
  "language_info": {
   "codemirror_mode": {
    "name": "ipython",
    "version": 3
   },
   "file_extension": ".py",
   "mimetype": "text/x-python",
   "name": "python",
   "nbconvert_exporter": "python",
   "pygments_lexer": "ipython3",
   "version": "3.7.11"
  }
 },
 "nbformat": 4,
 "nbformat_minor": 5
}
